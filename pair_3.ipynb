{
 "cells": [
  {
   "cell_type": "markdown",
   "id": "0b8c1272-6123-46b8-a703-39dc895bbc6b",
   "metadata": {
    "id": "0b8c1272-6123-46b8-a703-39dc895bbc6b"
   },
   "source": [
    "# Pair Problem: Coins\n",
    "\n",
    "This pair problem is satisfied after you get through the first problem. If you can get through the first problem, please try working on the rest!\n",
    "\n",
    "*Note: Variations 1-3 are optional. :)*"
   ]
  },
  {
   "cell_type": "markdown",
   "id": "dff7dd2b-9adf-45cb-93e9-7e45c607cba3",
   "metadata": {
    "id": "dff7dd2b-9adf-45cb-93e9-7e45c607cba3",
    "tags": []
   },
   "source": [
    "## pennies and nickels\n",
    "\n",
    "Given enough pennies (1 cent) and nickels (5 cents), write a function, which calculates the number of ways you can make change for a given amount of cents. Do this in two ways:\n",
    "\n",
    "1. Write the function `ways` which does this without using NumPy.\n",
    "2. Write *another* function `ways_np` which does the same thing, but uses NumPy.\n",
    "\n",
    "**Test Cases**\n",
    "\n",
    "```python\n",
    "           --->      (num pennies, num nickels)\n",
    "    \n",
    "ways(12)   ---> 3    [(2, 2), (7, 1), (12, 0)]               \n",
    "ways(20)   ---> 5    [(0, 4), (5, 3), (10, 2), (15, 1), (20, 0)]\n",
    "ways(3)    ---> 1    [(3, 0)]\n",
    "ways(0)    ---> 1    [(0, 0)]\n",
    "```"
   ]
  },
  {
   "cell_type": "code",
   "execution_count": 13,
   "id": "b906e9af-b3b8-4fbe-9262-e9a9314c7b3a",
   "metadata": {
    "id": "b906e9af-b3b8-4fbe-9262-e9a9314c7b3a",
    "tags": []
   },
   "outputs": [
    {
     "name": "stdout",
     "output_type": "stream",
     "text": [
      "4\n",
      "8\n",
      "1\n",
      "1\n",
      "\n",
      "2\n",
      "24\n"
     ]
    }
   ],
   "source": [
    "# I501 Week 3 Pair Practice\n",
    "# Michael Frontz and Juan Garcia\n",
    "\n",
    "def ways(total):\n",
    "    n = 5\n",
    "    p = 1\n",
    "    max_n = total // n\n",
    "    rem_p = total % n\n",
    "\n",
    "    # turns out this specific problem can be solved without knowing the modulus (rem_p)\n",
    "    \n",
    "    # if total greater than one nickel\n",
    "    if max_n > 0:\n",
    "        ways = max_n * 2\n",
    "        \n",
    "    # if total less than one nickel\n",
    "    else:\n",
    "        ways = 1\n",
    "\n",
    "    return ways\n",
    "\n",
    "print(ways(12))\n",
    "print(ways(20))\n",
    "print(ways(3))\n",
    "print(ways(0))\n",
    "print()\n",
    "print(ways(5))\n",
    "print(ways(63))"
   ]
  },
  {
   "cell_type": "code",
   "execution_count": 12,
   "id": "7dec63d1-6de7-4f21-a37f-5eee8777fc45",
   "metadata": {},
   "outputs": [
    {
     "name": "stdout",
     "output_type": "stream",
     "text": [
      "4\n",
      "8\n",
      "1\n",
      "1\n",
      "\n",
      "2\n",
      "24\n"
     ]
    }
   ],
   "source": [
    "import numpy as np\n",
    "\n",
    "def ways_np(total):\n",
    "    n = 5\n",
    "    divmod = np.divmod(total, n)\n",
    "    \n",
    "    # if total greater than one nickel\n",
    "    if divmod[0] > 0:\n",
    "        ways = divmod[0] *2\n",
    "        \n",
    "    # if total less than one nickel\n",
    "    else:\n",
    "        ways = 1\n",
    "\n",
    "    return ways\n",
    "\n",
    "print(ways_np(12))\n",
    "print(ways_np(20))\n",
    "print(ways_np(3))\n",
    "print(ways_np(0))\n",
    "print()\n",
    "print(ways_np(5))\n",
    "print(ways_np(63))"
   ]
  },
  {
   "cell_type": "markdown",
   "id": "db009987-9189-40d9-b08b-a330648f749b",
   "metadata": {
    "id": "db009987-9189-40d9-b08b-a330648f749b"
   },
   "source": [
    "## Optional Variation"
   ]
  },
  {
   "cell_type": "markdown",
   "id": "8d2149fe-2706-4f3d-ae81-20e48cb11b7f",
   "metadata": {
    "id": "8d2149fe-2706-4f3d-ae81-20e48cb11b7f"
   },
   "source": [
    "Update `ways` to incorporate an *arbitrary* set of coin values.\n",
    "\n",
    "I.e., your function should now look something like this:\n",
    "\n",
    "```python\n",
    "def ways(cents, coin_types):\n",
    "    # code code ...\n",
    "\n",
    ">>> ways(100, [25, 10, 5, 1])\n",
    ">>> 242\n",
    "```"
   ]
  },
  {
   "cell_type": "code",
   "execution_count": null,
   "id": "529e4cfc-5382-430e-9864-982882ca5e7b",
   "metadata": {
    "id": "529e4cfc-5382-430e-9864-982882ca5e7b",
    "tags": []
   },
   "outputs": [],
   "source": [
    "# your code here\n",
    "import numpy as np\n",
    "\n",
    "def ways(cents, coin_types):\n",
    "    \"\"\"\n",
    "    cents should be integer representing the total amount of change to made\n",
    "    coin_types should be list of the coin types to use for making change\n",
    "    \"\"\"\n"
   ]
  }
 ],
 "metadata": {
  "colab": {
   "provenance": []
  },
  "kernelspec": {
   "display_name": "i501-labs",
   "language": "python",
   "name": "i501-labs"
  },
  "language_info": {
   "codemirror_mode": {
    "name": "ipython",
    "version": 3
   },
   "file_extension": ".py",
   "mimetype": "text/x-python",
   "name": "python",
   "nbconvert_exporter": "python",
   "pygments_lexer": "ipython3",
   "version": "3.10.13"
  }
 },
 "nbformat": 4,
 "nbformat_minor": 5
}
