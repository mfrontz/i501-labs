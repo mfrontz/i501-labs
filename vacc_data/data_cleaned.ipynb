{
 "cells": [
  {
   "cell_type": "markdown",
   "id": "7cb79d4a-e860-4f3f-a1af-85c723c9109d",
   "metadata": {},
   "source": [
    "# Scratch Notebook for i501-final"
   ]
  },
  {
   "cell_type": "code",
   "execution_count": null,
   "id": "5b8557ee-6635-4f18-8de7-9855268d6de1",
   "metadata": {},
   "outputs": [],
   "source": []
  }
 ],
 "metadata": {
  "kernelspec": {
   "display_name": "i501-final",
   "language": "python",
   "name": "i501-final"
  },
  "language_info": {
   "codemirror_mode": {
    "name": "ipython",
    "version": 3
   },
   "file_extension": ".py",
   "mimetype": "text/x-python",
   "name": "python",
   "nbconvert_exporter": "python",
   "pygments_lexer": "ipython3",
   "version": "3.10.13"
  }
 },
 "nbformat": 4,
 "nbformat_minor": 5
}
