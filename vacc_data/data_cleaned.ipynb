{
 "cells": [
  {
   "cell_type": "markdown",
   "id": "7cb79d4a-e860-4f3f-a1af-85c723c9109d",
   "metadata": {},
   "source": [
    "# Data Cleaned"
   ]
  },
  {
   "cell_type": "code",
   "execution_count": 2,
   "id": "f39a276a",
   "metadata": {
    "tags": []
   },
   "outputs": [],
   "source": [
    "import numpy as np\n",
    "import pandas as pd"
   ]
  },
  {
   "cell_type": "code",
   "execution_count": 16,
   "id": "df29e662",
   "metadata": {},
   "outputs": [
    {
     "data": {
      "text/plain": [
       "(118423, 10)"
      ]
     },
     "execution_count": 16,
     "metadata": {},
     "output_type": "execute_result"
    }
   ],
   "source": [
    "df_vacc = pd.read_csv('child_vaccination_data.csv')\n",
    "num_rows_original = df_vacc.shape[0]\n",
    "df_vacc.shape"
   ]
  },
  {
   "cell_type": "code",
   "execution_count": 17,
   "id": "1983c213",
   "metadata": {},
   "outputs": [
    {
     "data": {
      "text/html": [
       "<div>\n",
       "<style scoped>\n",
       "    .dataframe tbody tr th:only-of-type {\n",
       "        vertical-align: middle;\n",
       "    }\n",
       "\n",
       "    .dataframe tbody tr th {\n",
       "        vertical-align: top;\n",
       "    }\n",
       "\n",
       "    .dataframe thead th {\n",
       "        text-align: right;\n",
       "    }\n",
       "</style>\n",
       "<table border=\"1\" class=\"dataframe\">\n",
       "  <thead>\n",
       "    <tr style=\"text-align: right;\">\n",
       "      <th></th>\n",
       "      <th>Vaccine</th>\n",
       "      <th>Dose</th>\n",
       "      <th>Geography Type</th>\n",
       "      <th>Geography</th>\n",
       "      <th>Birth Year/Birth Cohort</th>\n",
       "      <th>Dimension Type</th>\n",
       "      <th>Dimension</th>\n",
       "      <th>Estimate (%)</th>\n",
       "      <th>95% CI (%)</th>\n",
       "      <th>Sample Size</th>\n",
       "    </tr>\n",
       "  </thead>\n",
       "  <tbody>\n",
       "    <tr>\n",
       "      <th>0</th>\n",
       "      <td>Influenza</td>\n",
       "      <td>NaN</td>\n",
       "      <td>States/Local Areas</td>\n",
       "      <td>Tennessee</td>\n",
       "      <td>2014-2017</td>\n",
       "      <td>Poverty</td>\n",
       "      <td>&gt;400% FPL</td>\n",
       "      <td>64.2</td>\n",
       "      <td>55.3 to 73.1</td>\n",
       "      <td>189.0</td>\n",
       "    </tr>\n",
       "    <tr>\n",
       "      <th>1</th>\n",
       "      <td>Hep A</td>\n",
       "      <td>≥1 Dose</td>\n",
       "      <td>States/Local Areas</td>\n",
       "      <td>Tennessee</td>\n",
       "      <td>2016-2019</td>\n",
       "      <td>Race and Ethnicity</td>\n",
       "      <td>Hispanic</td>\n",
       "      <td>86.4</td>\n",
       "      <td>76.8 to 95.9</td>\n",
       "      <td>187.0</td>\n",
       "    </tr>\n",
       "    <tr>\n",
       "      <th>2</th>\n",
       "      <td>PCV</td>\n",
       "      <td>≥4 Doses</td>\n",
       "      <td>States/Local Areas</td>\n",
       "      <td>Tennessee</td>\n",
       "      <td>2016-2019</td>\n",
       "      <td>Insurance Coverage</td>\n",
       "      <td>Private Insurance Only</td>\n",
       "      <td>89.3</td>\n",
       "      <td>85.4 to 93.2</td>\n",
       "      <td>612.0</td>\n",
       "    </tr>\n",
       "    <tr>\n",
       "      <th>3</th>\n",
       "      <td>Influenza</td>\n",
       "      <td>NaN</td>\n",
       "      <td>States/Local Areas</td>\n",
       "      <td>Tennessee</td>\n",
       "      <td>2014-2017</td>\n",
       "      <td>Poverty</td>\n",
       "      <td>133% to &lt;400% FPL</td>\n",
       "      <td>51.4</td>\n",
       "      <td>44.0 to 58.8</td>\n",
       "      <td>342.0</td>\n",
       "    </tr>\n",
       "    <tr>\n",
       "      <th>4</th>\n",
       "      <td>Influenza</td>\n",
       "      <td>NaN</td>\n",
       "      <td>States/Local Areas</td>\n",
       "      <td>Tennessee</td>\n",
       "      <td>2014-2017</td>\n",
       "      <td>Poverty</td>\n",
       "      <td>&lt;133% FPL</td>\n",
       "      <td>39.0</td>\n",
       "      <td>31.9 to 46.1</td>\n",
       "      <td>298.0</td>\n",
       "    </tr>\n",
       "  </tbody>\n",
       "</table>\n",
       "</div>"
      ],
      "text/plain": [
       "     Vaccine      Dose      Geography Type  Geography Birth Year/Birth Cohort  \\\n",
       "0  Influenza       NaN  States/Local Areas  Tennessee               2014-2017   \n",
       "1      Hep A   ≥1 Dose  States/Local Areas  Tennessee               2016-2019   \n",
       "2        PCV  ≥4 Doses  States/Local Areas  Tennessee               2016-2019   \n",
       "3  Influenza       NaN  States/Local Areas  Tennessee               2014-2017   \n",
       "4  Influenza       NaN  States/Local Areas  Tennessee               2014-2017   \n",
       "\n",
       "       Dimension Type               Dimension  Estimate (%)    95% CI (%)  \\\n",
       "0             Poverty               >400% FPL          64.2  55.3 to 73.1   \n",
       "1  Race and Ethnicity                Hispanic          86.4  76.8 to 95.9   \n",
       "2  Insurance Coverage  Private Insurance Only          89.3  85.4 to 93.2   \n",
       "3             Poverty       133% to <400% FPL          51.4  44.0 to 58.8   \n",
       "4             Poverty               <133% FPL          39.0  31.9 to 46.1   \n",
       "\n",
       "   Sample Size  \n",
       "0        189.0  \n",
       "1        187.0  \n",
       "2        612.0  \n",
       "3        342.0  \n",
       "4        298.0  "
      ]
     },
     "execution_count": 17,
     "metadata": {},
     "output_type": "execute_result"
    }
   ],
   "source": [
    "df_vacc.head()"
   ]
  },
  {
   "cell_type": "code",
   "execution_count": 18,
   "id": "f1cd979f",
   "metadata": {
    "tags": []
   },
   "outputs": [],
   "source": [
    "# pivot 'Dimension Type' into new columns (with 'Dimension' containing values for new columns)\n",
    "df_vacc = pd.pivot(df_vacc, \n",
    "                   index=['Vaccine', 'Dose', 'Geography Type', 'Geography', 'Birth Year/Birth Cohort', \\\n",
    "                          'Dimension', 'Estimate (%)', '95% CI (%)', 'Sample Size'], # identifier for each row\n",
    "                   columns=['Dimension Type'], # column containing new column names\n",
    "                   values='Dimension')         # values for new columns\n",
    "\n",
    "df_vacc.reset_index(inplace=True) \n",
    "df_vacc.rename_axis(None, axis=1, inplace=True) # remove the named index"
   ]
  },
  {
   "cell_type": "code",
   "execution_count": 19,
   "id": "88c2149a",
   "metadata": {
    "tags": []
   },
   "outputs": [],
   "source": [
    "# drop 'Dimension' column as it is no longer needed after pivot\n",
    "df_vacc.drop(columns='Dimension', inplace = True)"
   ]
  },
  {
   "cell_type": "code",
   "execution_count": 20,
   "id": "3aefc2cb-9f5a-43d7-ad11-70338225b5eb",
   "metadata": {
    "tags": []
   },
   "outputs": [],
   "source": [
    "# split 'Birth Year/Birth Cohort' column into two columns by looking for hyphen in values\n",
    "df_vacc['Birth Year'] = np.where(df_vacc['Birth Year/Birth Cohort']\\\n",
    "                                 .str.contains('-'), np.nan, df_vacc['Birth Year/Birth Cohort'])\n",
    "df_vacc['Birth Cohort'] = np.where(df_vacc['Birth Year/Birth Cohort']\\\n",
    "                                   .str.contains('-'), df_vacc['Birth Year/Birth Cohort'], np.nan)"
   ]
  },
  {
   "cell_type": "code",
   "execution_count": 21,
   "id": "4fdd94a1-52b2-4e5c-9b4e-4d266ca4ad23",
   "metadata": {
    "tags": []
   },
   "outputs": [],
   "source": [
    "# drop 'Birth Year/Birth Cohort' column as it is no longer needed after split\n",
    "df_vacc.drop(columns='Birth Year/Birth Cohort', inplace = True)"
   ]
  },
  {
   "cell_type": "code",
   "execution_count": 22,
   "id": "3e44d251-2767-4ce1-b678-7c7241fd92b1",
   "metadata": {
    "tags": []
   },
   "outputs": [],
   "source": [
    "# reorder columns\n",
    "df_vacc = df_vacc[['Vaccine', 'Dose', 'Geography Type', 'Geography', 'Birth Year', 'Birth Cohort', \\\n",
    "                   'Estimate (%)', '95% CI (%)', 'Overall', 'Age', 'Race and Ethnicity', 'Poverty', \\\n",
    "                    'Insurance Coverage', 'Urbanicity', 'Sample Size']]"
   ]
  },
  {
   "cell_type": "code",
   "execution_count": 23,
   "id": "c78d582d",
   "metadata": {},
   "outputs": [
    {
     "data": {
      "text/plain": [
       "58"
      ]
     },
     "execution_count": 23,
     "metadata": {},
     "output_type": "execute_result"
    }
   ],
   "source": [
    "# check for NA in Estimate (%) which will be column used in all data visualizations\n",
    "df_vacc['Estimate (%)'].isna().sum()"
   ]
  },
  {
   "cell_type": "code",
   "execution_count": 24,
   "id": "ffd3b3c0",
   "metadata": {},
   "outputs": [
    {
     "name": "stdout",
     "output_type": "stream",
     "text": [
      "58 rows dropped\n"
     ]
    }
   ],
   "source": [
    "# drop rows with NA in Estimate (%) which will be column used in all data visualizations\n",
    "df_vacc.dropna(subset=['Estimate (%)'], inplace=True)\n",
    "\n",
    "num_rows_current = df_vacc.shape[0]\n",
    "\n",
    "print(num_rows_original - num_rows_current, \"rows dropped\")"
   ]
  },
  {
   "cell_type": "code",
   "execution_count": 28,
   "id": "10a451e5",
   "metadata": {},
   "outputs": [],
   "source": [
    "# fill NA values for Dose for certain vaccines (based on CDC documentation of what these represent)\n",
    "df_vacc['Dose'] = np.where(df_vacc['Vaccine'] == 'Combined 7 Series', 'Full Series', df_vacc['Dose'])\n",
    "df_vacc['Dose'] = np.where(df_vacc['Vaccine'] == 'Influenza', '≥2 Doses at least 24 days apart', df_vacc['Dose'])\n",
    "df_vacc['Dose'] = np.where(df_vacc['Vaccine'] == 'Rotavirus', 'Full Series', df_vacc['Dose'])"
   ]
  },
  {
   "cell_type": "code",
   "execution_count": 30,
   "id": "ca3d1d50",
   "metadata": {
    "tags": []
   },
   "outputs": [
    {
     "data": {
      "text/html": [
       "<div>\n",
       "<style scoped>\n",
       "    .dataframe tbody tr th:only-of-type {\n",
       "        vertical-align: middle;\n",
       "    }\n",
       "\n",
       "    .dataframe tbody tr th {\n",
       "        vertical-align: top;\n",
       "    }\n",
       "\n",
       "    .dataframe thead th {\n",
       "        text-align: right;\n",
       "    }\n",
       "</style>\n",
       "<table border=\"1\" class=\"dataframe\">\n",
       "  <thead>\n",
       "    <tr style=\"text-align: right;\">\n",
       "      <th></th>\n",
       "      <th>Vaccine</th>\n",
       "      <th>Dose</th>\n",
       "      <th>Geography Type</th>\n",
       "      <th>Geography</th>\n",
       "      <th>Birth Year</th>\n",
       "      <th>Birth Cohort</th>\n",
       "      <th>Estimate (%)</th>\n",
       "      <th>95% CI (%)</th>\n",
       "      <th>Overall</th>\n",
       "      <th>Age</th>\n",
       "      <th>Race and Ethnicity</th>\n",
       "      <th>Poverty</th>\n",
       "      <th>Insurance Coverage</th>\n",
       "      <th>Urbanicity</th>\n",
       "      <th>Sample Size</th>\n",
       "    </tr>\n",
       "  </thead>\n",
       "  <tbody>\n",
       "    <tr>\n",
       "      <th>52798</th>\n",
       "      <td>Hib</td>\n",
       "      <td>Full Series</td>\n",
       "      <td>States/Local Areas</td>\n",
       "      <td>Oklahoma</td>\n",
       "      <td>2016</td>\n",
       "      <td>NaN</td>\n",
       "      <td>79.8</td>\n",
       "      <td>73.8 to 85.1</td>\n",
       "      <td>NaN</td>\n",
       "      <td>35 Months</td>\n",
       "      <td>NaN</td>\n",
       "      <td>NaN</td>\n",
       "      <td>NaN</td>\n",
       "      <td>NaN</td>\n",
       "      <td>319.0</td>\n",
       "    </tr>\n",
       "    <tr>\n",
       "      <th>65039</th>\n",
       "      <td>Hib</td>\n",
       "      <td>≥2 Doses</td>\n",
       "      <td>States/Local Areas</td>\n",
       "      <td>TX-City of Houston</td>\n",
       "      <td>2013</td>\n",
       "      <td>NaN</td>\n",
       "      <td>86.0</td>\n",
       "      <td>80.8 to 89.9</td>\n",
       "      <td>NaN</td>\n",
       "      <td>7 Months</td>\n",
       "      <td>NaN</td>\n",
       "      <td>NaN</td>\n",
       "      <td>NaN</td>\n",
       "      <td>NaN</td>\n",
       "      <td>205.0</td>\n",
       "    </tr>\n",
       "    <tr>\n",
       "      <th>113006</th>\n",
       "      <td>Varicella</td>\n",
       "      <td>≥1 Dose</td>\n",
       "      <td>States/Local Areas</td>\n",
       "      <td>California</td>\n",
       "      <td>2017</td>\n",
       "      <td>NaN</td>\n",
       "      <td>82.8</td>\n",
       "      <td>75.7 to 88.2</td>\n",
       "      <td>NaN</td>\n",
       "      <td>19 Months</td>\n",
       "      <td>NaN</td>\n",
       "      <td>NaN</td>\n",
       "      <td>NaN</td>\n",
       "      <td>NaN</td>\n",
       "      <td>418.0</td>\n",
       "    </tr>\n",
       "    <tr>\n",
       "      <th>31618</th>\n",
       "      <td>Hep B</td>\n",
       "      <td>≥1 Dose</td>\n",
       "      <td>States/Local Areas</td>\n",
       "      <td>Oklahoma</td>\n",
       "      <td>2017</td>\n",
       "      <td>NaN</td>\n",
       "      <td>94.2</td>\n",
       "      <td>89.2 to 97.0</td>\n",
       "      <td>NaN</td>\n",
       "      <td>3 Months</td>\n",
       "      <td>NaN</td>\n",
       "      <td>NaN</td>\n",
       "      <td>NaN</td>\n",
       "      <td>NaN</td>\n",
       "      <td>243.0</td>\n",
       "    </tr>\n",
       "    <tr>\n",
       "      <th>95654</th>\n",
       "      <td>PCV</td>\n",
       "      <td>≥4 Doses</td>\n",
       "      <td>States/Local Areas</td>\n",
       "      <td>Minnesota</td>\n",
       "      <td>NaN</td>\n",
       "      <td>2014-2017</td>\n",
       "      <td>87.0</td>\n",
       "      <td>83.1 to 90.9</td>\n",
       "      <td>NaN</td>\n",
       "      <td>NaN</td>\n",
       "      <td>White, Non-Hispanic</td>\n",
       "      <td>NaN</td>\n",
       "      <td>NaN</td>\n",
       "      <td>NaN</td>\n",
       "      <td>605.0</td>\n",
       "    </tr>\n",
       "    <tr>\n",
       "      <th>107872</th>\n",
       "      <td>Polio</td>\n",
       "      <td>≥3 Doses</td>\n",
       "      <td>States/Local Areas</td>\n",
       "      <td>TX-Bexar County</td>\n",
       "      <td>NaN</td>\n",
       "      <td>2019-2020</td>\n",
       "      <td>90.4</td>\n",
       "      <td>85.7 to 94.1</td>\n",
       "      <td>NaN</td>\n",
       "      <td>24 Months</td>\n",
       "      <td>NaN</td>\n",
       "      <td>NaN</td>\n",
       "      <td>NaN</td>\n",
       "      <td>NaN</td>\n",
       "      <td>343.0</td>\n",
       "    </tr>\n",
       "    <tr>\n",
       "      <th>89302</th>\n",
       "      <td>PCV</td>\n",
       "      <td>≥3 Doses</td>\n",
       "      <td>States/Local Areas</td>\n",
       "      <td>Missouri</td>\n",
       "      <td>NaN</td>\n",
       "      <td>2018-2019</td>\n",
       "      <td>86.1</td>\n",
       "      <td>81.9 to 89.4</td>\n",
       "      <td>NaN</td>\n",
       "      <td>19 Months</td>\n",
       "      <td>NaN</td>\n",
       "      <td>NaN</td>\n",
       "      <td>NaN</td>\n",
       "      <td>NaN</td>\n",
       "      <td>818.0</td>\n",
       "    </tr>\n",
       "    <tr>\n",
       "      <th>67987</th>\n",
       "      <td>Hib</td>\n",
       "      <td>≥3 Doses</td>\n",
       "      <td>States/Local Areas</td>\n",
       "      <td>Illinois</td>\n",
       "      <td>2018</td>\n",
       "      <td>NaN</td>\n",
       "      <td>90.9</td>\n",
       "      <td>87.0 to 94.0</td>\n",
       "      <td>NaN</td>\n",
       "      <td>24 Months</td>\n",
       "      <td>NaN</td>\n",
       "      <td>NaN</td>\n",
       "      <td>NaN</td>\n",
       "      <td>NaN</td>\n",
       "      <td>542.0</td>\n",
       "    </tr>\n",
       "    <tr>\n",
       "      <th>102326</th>\n",
       "      <td>Polio</td>\n",
       "      <td>≥2 Doses</td>\n",
       "      <td>States/Local Areas</td>\n",
       "      <td>Ohio</td>\n",
       "      <td>NaN</td>\n",
       "      <td>2016-2017</td>\n",
       "      <td>85.3</td>\n",
       "      <td>80.3 to 89.2</td>\n",
       "      <td>NaN</td>\n",
       "      <td>7 Months</td>\n",
       "      <td>NaN</td>\n",
       "      <td>NaN</td>\n",
       "      <td>NaN</td>\n",
       "      <td>NaN</td>\n",
       "      <td>566.0</td>\n",
       "    </tr>\n",
       "    <tr>\n",
       "      <th>86027</th>\n",
       "      <td>PCV</td>\n",
       "      <td>≥3 Doses</td>\n",
       "      <td>HHS Regions/National</td>\n",
       "      <td>United States</td>\n",
       "      <td>2013</td>\n",
       "      <td>NaN</td>\n",
       "      <td>88.2</td>\n",
       "      <td>87.2 to 89.2</td>\n",
       "      <td>NaN</td>\n",
       "      <td>13 Months</td>\n",
       "      <td>NaN</td>\n",
       "      <td>NaN</td>\n",
       "      <td>NaN</td>\n",
       "      <td>NaN</td>\n",
       "      <td>14872.0</td>\n",
       "    </tr>\n",
       "  </tbody>\n",
       "</table>\n",
       "</div>"
      ],
      "text/plain": [
       "          Vaccine         Dose        Geography Type           Geography  \\\n",
       "52798         Hib  Full Series    States/Local Areas            Oklahoma   \n",
       "65039         Hib     ≥2 Doses    States/Local Areas  TX-City of Houston   \n",
       "113006  Varicella      ≥1 Dose    States/Local Areas          California   \n",
       "31618       Hep B      ≥1 Dose    States/Local Areas            Oklahoma   \n",
       "95654         PCV     ≥4 Doses    States/Local Areas           Minnesota   \n",
       "107872      Polio     ≥3 Doses    States/Local Areas     TX-Bexar County   \n",
       "89302         PCV     ≥3 Doses    States/Local Areas            Missouri   \n",
       "67987         Hib     ≥3 Doses    States/Local Areas            Illinois   \n",
       "102326      Polio     ≥2 Doses    States/Local Areas                Ohio   \n",
       "86027         PCV     ≥3 Doses  HHS Regions/National       United States   \n",
       "\n",
       "       Birth Year Birth Cohort  Estimate (%)    95% CI (%) Overall        Age  \\\n",
       "52798        2016          NaN          79.8  73.8 to 85.1     NaN  35 Months   \n",
       "65039        2013          NaN          86.0  80.8 to 89.9     NaN   7 Months   \n",
       "113006       2017          NaN          82.8  75.7 to 88.2     NaN  19 Months   \n",
       "31618        2017          NaN          94.2  89.2 to 97.0     NaN   3 Months   \n",
       "95654         NaN    2014-2017          87.0  83.1 to 90.9     NaN        NaN   \n",
       "107872        NaN    2019-2020          90.4  85.7 to 94.1     NaN  24 Months   \n",
       "89302         NaN    2018-2019          86.1  81.9 to 89.4     NaN  19 Months   \n",
       "67987        2018          NaN          90.9  87.0 to 94.0     NaN  24 Months   \n",
       "102326        NaN    2016-2017          85.3  80.3 to 89.2     NaN   7 Months   \n",
       "86027        2013          NaN          88.2  87.2 to 89.2     NaN  13 Months   \n",
       "\n",
       "         Race and Ethnicity Poverty Insurance Coverage Urbanicity  Sample Size  \n",
       "52798                   NaN     NaN                NaN        NaN        319.0  \n",
       "65039                   NaN     NaN                NaN        NaN        205.0  \n",
       "113006                  NaN     NaN                NaN        NaN        418.0  \n",
       "31618                   NaN     NaN                NaN        NaN        243.0  \n",
       "95654   White, Non-Hispanic     NaN                NaN        NaN        605.0  \n",
       "107872                  NaN     NaN                NaN        NaN        343.0  \n",
       "89302                   NaN     NaN                NaN        NaN        818.0  \n",
       "67987                   NaN     NaN                NaN        NaN        542.0  \n",
       "102326                  NaN     NaN                NaN        NaN        566.0  \n",
       "86027                   NaN     NaN                NaN        NaN      14872.0  "
      ]
     },
     "execution_count": 30,
     "metadata": {},
     "output_type": "execute_result"
    }
   ],
   "source": [
    "#df_vacc[(df_vacc['Vaccine'] == 'Influenza')]\n",
    "df_vacc.sample(10)"
   ]
  },
  {
   "cell_type": "code",
   "execution_count": 77,
   "id": "a562f64d",
   "metadata": {
    "tags": []
   },
   "outputs": [],
   "source": [
    "# saved cleaned data to csv\n",
    "df_vacc.to_csv('child_vaccination_data_cleaned.csv', index=False)"
   ]
  }
 ],
 "metadata": {
  "kernelspec": {
   "display_name": "i501-labs",
   "language": "python",
   "name": "python3"
  },
  "language_info": {
   "codemirror_mode": {
    "name": "ipython",
    "version": 3
   },
   "file_extension": ".py",
   "mimetype": "text/x-python",
   "name": "python",
   "nbconvert_exporter": "python",
   "pygments_lexer": "ipython3",
   "version": "3.10.13"
  }
 },
 "nbformat": 4,
 "nbformat_minor": 5
}
